{
 "cells": [
  {
   "cell_type": "code",
   "execution_count": 1,
   "id": "83caa2f2-84ee-4a8c-99be-602f0238d2ab",
   "metadata": {},
   "outputs": [
    {
     "name": "stdout",
     "output_type": "stream",
     "text": [
      "\t\t Instructions\n",
      "\n",
      "1. Image must be stored in the same folder\n",
      "2. Double click on the image to get the color\n",
      "3. Press ESC button to quit\n"
     ]
    },
    {
     "name": "stdin",
     "output_type": "stream",
     "text": [
      "Enter the image name:-  E:\\Drive E downloader\\colorpic.jpg\n"
     ]
    }
   ],
   "source": [
    "import cv2  # OpenCV for image processing\n",
    "import pandas as pd  # Pandas for handling CSV (color data)\n",
    "import warnings\n",
    "warnings.filterwarnings(action=\"ignore\")  # Ignore unnecessary warnings\n",
    "\n",
    "# Function to get x, y coordinates when the user double-clicks on the image\n",
    "def draw_function(event, x, y, flags, param):\n",
    "    if event == cv2.EVENT_LBUTTONDBLCLK:  # Left button double-click event\n",
    "        global b, g, r, xpos, ypos, clicked\n",
    "        clicked = True  # Flag to indicate a click has happened\n",
    "        xpos = x  # Store x coordinate of the click\n",
    "        ypos = y  # Store y coordinate of the click\n",
    "        b, g, r = img[y, x]  # Get the BGR values from the image at clicked location\n",
    "        b = int(b)\n",
    "        g = int(g)\n",
    "        r = int(r)\n",
    "\n",
    "# Function to calculate the closest matching color name from the CSV file\n",
    "def getColorName(R, G, B):\n",
    "    minimum = 10000  # Start with a very high minimum distance\n",
    "    for i in range(len(csv)):  # Loop through all colors in the CSV\n",
    "        # Manhattan distance between clicked color and CSV color\n",
    "        d = abs(R - int(csv.loc[i, \"R\"])) + abs(G - int(csv.loc[i, \"G\"])) + abs(B - int(csv.loc[i, \"B\"]))\n",
    "        if d <= minimum:\n",
    "            minimum = d  # Update minimum if smaller distance is found\n",
    "            cname = csv.loc[i, \"color_name\"]  # Get the closest color name\n",
    "    return cname  # Return best matched color name\n",
    "\n",
    "if __name__ == '__main__':\n",
    "\n",
    "    # Declare global variables to use inside mouse callback\n",
    "    clicked = False\n",
    "    r = g = b = xpos = ypos = 0  # Initialize all to zero\n",
    "\n",
    "    # Instructions for user\n",
    "    print(\"\\t\\t Instructions\\n\")\n",
    "    print(\"1. Image must be stored in the same folder\")\n",
    "    print(\"2. Double click on the image to get the color\")\n",
    "    print(\"3. Press ESC button to quit\")\n",
    "\n",
    "    # Prompt user for image name\n",
    "    image = input('Enter the image name:- ')\n",
    "    img = cv2.imread(image)  # Load the image using OpenCV\n",
    "\n",
    "    # Define the columns of the color CSV file\n",
    "    index = [\"color\", \"color_name\", \"hex\", \"R\", \"G\", \"B\"]\n",
    "\n",
    "    # Load the CSV file containing color data\n",
    "    # Make sure to update the path or place the CSV in the same directory\n",
    "    csv = pd.read_csv(r\"E:\\Drive E downloader\\colors.csv\", names=index, header=None)\n",
    "\n",
    "    # Create a named window\n",
    "    cv2.namedWindow('image')\n",
    "\n",
    "    # Set the mouse callback to capture double-clicks\n",
    "    cv2.setMouseCallback('image', draw_function)\n",
    "\n",
    "    # Display image in a loop until the user presses ESC\n",
    "    while (1):\n",
    "        cv2.imshow(\"image\", img)  # Show image window\n",
    "        if clicked:\n",
    "            # Draw a filled rectangle to show the detected color\n",
    "            cv2.rectangle(img, (20, 20), (750, 60), (b, g, r), -1)\n",
    "\n",
    "            # Create the text with color name and RGB values\n",
    "            text = getColorName(r, g, b) + ' R=' + str(r) + ' G=' + str(g) + ' B=' + str(b)\n",
    "\n",
    "            # Display text in white by default\n",
    "            cv2.putText(img, text, (50, 50), 2, 0.8, (255, 255, 255), 2, cv2.LINE_AA)\n",
    "\n",
    "            # For very light background, switch text to black\n",
    "            if (r + g + b >= 600):\n",
    "                cv2.putText(img, text, (50, 50), 2, 0.8, (0, 0, 0), 2, cv2.LINE_AA)\n",
    "\n",
    "            clicked = False  # Reset the click flag\n",
    "\n",
    "        # Exit the loop if ESC key is pressed\n",
    "        if cv2.waitKey(20) & 0xFF == 27:\n",
    "            break\n",
    "\n",
    "    # Destroy all OpenCV windows once done\n",
    "    cv2.destroyAllWindows()\n",
    "    exit()\n"
   ]
  },
  {
   "cell_type": "code",
   "execution_count": null,
   "id": "95582060-82c0-4a78-a3b5-a96e0eecf87d",
   "metadata": {},
   "outputs": [],
   "source": []
  }
 ],
 "metadata": {
  "kernelspec": {
   "display_name": "Python 3 (ipykernel)",
   "language": "python",
   "name": "python3"
  },
  "language_info": {
   "codemirror_mode": {
    "name": "ipython",
    "version": 3
   },
   "file_extension": ".py",
   "mimetype": "text/x-python",
   "name": "python",
   "nbconvert_exporter": "python",
   "pygments_lexer": "ipython3",
   "version": "3.13.0"
  }
 },
 "nbformat": 4,
 "nbformat_minor": 5
}
